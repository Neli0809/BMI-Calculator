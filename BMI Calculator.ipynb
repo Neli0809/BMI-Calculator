{
 "cells": [
  {
   "cell_type": "markdown",
   "id": "df75e6dc-e390-40f4-b299-9c46356eabdd",
   "metadata": {},
   "source": [
    "# BMI Calculator"
   ]
  },
  {
   "cell_type": "code",
   "execution_count": null,
   "id": "501e2f0b-181e-4418-8f30-aad86dc9430f",
   "metadata": {},
   "outputs": [],
   "source": [
    "name = input(\"Enter you name: \")\n",
    "\n",
    "weight = int(input(\"Enter your weigth in pounds: \"))\n",
    "\n",
    "height = int(input(\"Enter your heigth in inches: \"))\n",
    "\n",
    "BMI = (weight * 703) / (height * height)\n",
    "\n",
    "print (BMI)\n",
    "\n",
    "if BMI>0:\n",
    "    if(BMI<18.5):\n",
    "        print(name +\", you are underweigth.\")\n",
    "    elif (BMI<=24.9):\n",
    "        print(name +\", you are normal weigth.\")\n",
    "    elif (BMI<=29.9):\n",
    "        print(name +\", you are overweigth. You need to exercise more and stop sitting and writing so many python tutorials\")\n",
    "    elif (BMI<=34.9):\n",
    "        print(name +\", you are obese.\")\n",
    "    elif (BMI<=39.9):\n",
    "        print(name +\", you are severely obese.\")\n",
    "    else:\n",
    "        print(name +\", you are morbidly obese.\")\n",
    "else:\n",
    " print(\"Enter valid input\")"
   ]
  }
 ],
 "metadata": {
  "kernelspec": {
   "display_name": "Python 3 (ipykernel)",
   "language": "python",
   "name": "python3"
  },
  "language_info": {
   "codemirror_mode": {
    "name": "ipython",
    "version": 3
   },
   "file_extension": ".py",
   "mimetype": "text/x-python",
   "name": "python",
   "nbconvert_exporter": "python",
   "pygments_lexer": "ipython3",
   "version": "3.12.4"
  }
 },
 "nbformat": 4,
 "nbformat_minor": 5
}
